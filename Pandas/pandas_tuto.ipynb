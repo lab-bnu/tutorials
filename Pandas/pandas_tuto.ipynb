{
 "cells": [
  {
   "cell_type": "markdown",
   "metadata": {
    "id": "E4FARVi5DYWe"
   },
   "source": [
    "## Les Bases de Python"
   ]
  },
  {
   "cell_type": "markdown",
   "metadata": {
    "id": "s-_WOqp24Og-"
   },
   "source": [
    "Bienvenue dans ce tutoriel python et pandas !\n",
    "\n",
    "Vous vous trouvez dans ce que l'on appelle un \"notebook\". Il s'agit d'un fichier mélangeant **texte** (comme ce paragraphe) et **code** (comme les cases ci-dessous qui ont des symboles '\\[ \\]' sur la gauche).\n",
    "\n",
    "Le *code* désigne simplement des instructions écrites dans un language que votre ordinateur peut comprendre et éxecuter. Il existe différents languages - adaptés à différents usages - et celui de cet exercice est appelé **Python**. Python est un language accessible, puissant, et très populaire pour la manipulation des données.\n",
    "\n",
    "Un notebook est interactif. Pour éxecuter une cellule, cliquez dessus, puis faites Shift+Enter. Essayez avec les cellules qui suivent !"
   ]
  },
  {
   "cell_type": "code",
   "execution_count": null,
   "metadata": {
    "colab": {
     "base_uri": "https://localhost:8080/",
     "height": 386
    },
    "id": "OfTN-RH8IyzI",
    "outputId": "2b5ceda1-173b-4136-a7b3-ae9d7a034fdc"
   },
   "outputs": [],
   "source": [
    "print(\"Bravo, c'est réussi !\")"
   ]
  },
  {
   "cell_type": "code",
   "execution_count": null,
   "metadata": {
    "id": "6TcLX7x6sPKL"
   },
   "outputs": [],
   "source": [
    "test = 1 + 1"
   ]
  },
  {
   "cell_type": "markdown",
   "metadata": {
    "id": "31k-J0BnHRfx"
   },
   "source": [
    "Dans la cellule ci-dessus, on a utilisé la fonction '*print(...)*'. Les fonctions en python permettent d'éxecuter des actions. Il en existe plein, pour différents usages, et on peut même créer les siennes ! Ici, la fonction '*print(...)*' est une fonction de base de python, qui permet d'afficher à l'écran ce qu'il y a entre parenthèse. Essayez vous-même d'afficher 'Hello World' en modifiant la cellule suivante :"
   ]
  },
  {
   "cell_type": "code",
   "execution_count": null,
   "metadata": {
    "colab": {
     "base_uri": "https://localhost:8080/"
    },
    "id": "eR8X0KQpZJAs",
    "outputId": "d4ef8be8-39e6-4535-d7ac-16722d188eda"
   },
   "outputs": [],
   "source": [
    "print(\"...\")"
   ]
  },
  {
   "cell_type": "markdown",
   "metadata": {
    "id": "XZt559i3FZZH"
   },
   "source": [
    "On peut dès à présent commencer à créer et manipuler des variables. En python, une variable peut être un nombre, une chaîne de caractère, un tableau, ... Voici quelques exemples"
   ]
  },
  {
   "cell_type": "code",
   "execution_count": null,
   "metadata": {
    "colab": {
     "base_uri": "https://localhost:8080/"
    },
    "id": "jxC_XuyyGOFm",
    "outputId": "3ef4122d-c58c-4c62-b216-1c9452f319ad"
   },
   "outputs": [],
   "source": [
    "mon_nombre = 10\n",
    "mon_tableau_de_chiffres = [1, 2, 3, 4]\n",
    "ma_phrase = \"Ceci est une chaîne de caractère, toujours définie entre des guillemets\"\n",
    "print(mon_tableau_de_chiffres)"
   ]
  },
  {
   "cell_type": "markdown",
   "metadata": {
    "id": "z7HcI72zCeDn"
   },
   "source": [
    "On pourra faire appel à ces variables - et les modifier - plus tard en reprenant le nom qu'on leur a donné, comme suit :"
   ]
  },
  {
   "cell_type": "code",
   "execution_count": null,
   "metadata": {
    "id": "xdutYrT8Cw10"
   },
   "outputs": [],
   "source": [
    "mon_nombre = mon_nombre + 2"
   ]
  },
  {
   "cell_type": "code",
   "execution_count": null,
   "metadata": {
    "colab": {
     "base_uri": "https://localhost:8080/"
    },
    "id": "EStqNG6jC1iS",
    "outputId": "6cb1ec2e-9e6e-4071-dbbc-c907d9acda8c"
   },
   "outputs": [],
   "source": [
    "print(mon_nombre)"
   ]
  },
  {
   "cell_type": "markdown",
   "metadata": {
    "id": "UsragRSBC8DB"
   },
   "source": [
    "## Les bases de Pandas"
   ]
  },
  {
   "cell_type": "markdown",
   "metadata": {
    "id": "Py0YBjtSDBEU"
   },
   "source": [
    "Maintenant, rentrons dans le coeur du sujet : Pandas.\n",
    "Pandas est une *librairie* python. Une librairie en programmation est une collection de code déjà écrit, et réutilisable tel quel par d'autres programmeur·euse·s. Pandas est une librairie de manipulation et d'analyse des données rapide, puissante, flexible, facile à utiliser et open source. Pour commencer à l'utiliser, il faut commencer par l'importer. L'import d'une librairie en python se fait de cette manière :"
   ]
  },
  {
   "cell_type": "code",
   "execution_count": null,
   "metadata": {
    "id": "CYq5YXxyK8Hw"
   },
   "outputs": [],
   "source": [
    "import pandas"
   ]
  },
  {
   "cell_type": "markdown",
   "metadata": {},
   "source": [
    "Oops ! Si c'est la première fois que vous utilisez pandas, un message d'erreur apparaît. En général, un message d'erreur nous indique à la fin des pistes pour résoudre notre problème. Ici, il nous dit ```ImportError: No module named pandas```. Cela signifie qu'il ne trouve pas la librairie pandas. Il nous faut donc la télécharger dans notre environnement. Pour ce faire, ré-ouvrez un nouveau terminal et lancez la comande : ```pip install pandas```. Une fois que c'est fait, vous pouvez re-run la cellule précédente (cliquer dessus et Shift+Enter), et il ne derait plus y avoir de soucis ! On passe donc à la suite."
   ]
  },
  {
   "cell_type": "markdown",
   "metadata": {
    "id": "t-jLOBdVK-Oo"
   },
   "source": [
    "Comme nous allons beaucoup utiliser cette librairie, il est d'usage de la renommer, ce qui se fait à l'aide du mot-clé **as**. L'usage veut qu'on la renomme ```pd```, mais on pourrait très bien choisir un autre nom, à la seule condition d'être consistant·e et de continuer à l'utiliser dans la suite du notebook."
   ]
  },
  {
   "cell_type": "code",
   "execution_count": null,
   "metadata": {
    "id": "Cj_LxWicLoDj"
   },
   "outputs": [],
   "source": [
    "import pandas as pd"
   ]
  },
  {
   "cell_type": "markdown",
   "metadata": {
    "id": "1JJDqRodL5wU"
   },
   "source": [
    "La libraire est maintenant téléchargée. On peut donc passer en revue différentes fonctionnalités. Pour les découvrir, nous allons prendre pour objectif d'explorer les données générées suite à la recherche de 'botanique' dans numistral. Ces données sont en format *csv*, qui est utilisé pour représenter des données tabulaires, appelées *Dataframe*."
   ]
  },
  {
   "cell_type": "markdown",
   "metadata": {
    "id": "hY_ENZ0tOyul"
   },
   "source": [
    "Voici un exemple de chargement des données, à partir d'un csv"
   ]
  },
  {
   "cell_type": "code",
   "execution_count": null,
   "metadata": {
    "id": "qTrAcW6jPHlq"
   },
   "outputs": [],
   "source": [
    "df_test = pd.read_csv(\"./rapport_numistral_panda.csv\", sep=';')"
   ]
  },
  {
   "cell_type": "markdown",
   "metadata": {
    "id": "wtco7pkWP03s"
   },
   "source": [
    "Et pour jeter un coup d'oeil aux premières lignes du dataframe :"
   ]
  },
  {
   "cell_type": "code",
   "execution_count": null,
   "metadata": {
    "colab": {
     "base_uri": "https://localhost:8080/",
     "height": 206
    },
    "id": "vfN2nJcoP88h",
    "outputId": "b37f2a9b-9fdc-4779-f365-949f685e1d9b"
   },
   "outputs": [],
   "source": [
    "df_test.head()"
   ]
  },
  {
   "cell_type": "markdown",
   "metadata": {
    "id": "7FJiaRDjQGen"
   },
   "source": [
    "Ce dataframe est celui généré après une recherche de 'panda' dans numistal, pour des tests. \n",
    "\n",
    "En suivant cet exemple, essayez de charger les données de votre recherche dans numistral en complétant le code ci dessous ! Le chemin vers le csv vous est donné. Essayez aussi d'afficher les premières lignes."
   ]
  },
  {
   "cell_type": "code",
   "execution_count": null,
   "metadata": {
    "colab": {
     "base_uri": "https://localhost:8080/",
     "height": 386
    },
    "id": "dc5qE9tuQP6L",
    "outputId": "d3a4a828-834c-45f2-e77d-954c38998fc0"
   },
   "outputs": [],
   "source": [
    "CHEMIN_DF_NUMISTRAL = \"./rapport_numistral_botanique.csv\"\n",
    "df = pd.read_csv(... , sep=';')\n",
    "# A FAIRE EN DESSOUS : AFFICHER LES PREMIERES LIGNES DU DATAFRAME\n",
    "..."
   ]
  },
  {
   "cell_type": "markdown",
   "metadata": {
    "id": "P3flEfU1Q-Ax"
   },
   "source": [
    "Vous avez peut-être remarqué la syntaxe particulière pour afficher les premières lignes du dataframe. L'explication est la suivante : **df** est un objet de type *dataframe*. C'est lui qui contient toutes nos données. Sur cet objet **df**, on a appelé une fonction : **head()**. Les fonctions sont reconnaissables car elles se terminent par des parenthèses, parfois remplies, parfois vides. Tout comme le *print(...)* vu précedemment. Ce sont ces fonctions qui feront la majorité du travail !\n",
    "\n",
    "Maintenant, on laisse un peu les fonctions de côté, et on passe à une autre fonctionnalité bien utile : la sélection de colonnes ou de lignes. Voici quelques exemples :"
   ]
  },
  {
   "cell_type": "code",
   "execution_count": null,
   "metadata": {
    "id": "Zy1XiyQbUrLS"
   },
   "outputs": [],
   "source": [
    "# On sélectionne une colonne entière, en utilisant son nom\n",
    "df['TITRE']"
   ]
  },
  {
   "cell_type": "code",
   "execution_count": null,
   "metadata": {
    "id": "QArPuBhKU-4x"
   },
   "outputs": [],
   "source": [
    "# On sélectionne une ligne entière, en utilisant son numéro de ligne\n",
    "df.iloc[0]"
   ]
  },
  {
   "cell_type": "markdown",
   "metadata": {
    "id": "kwXuIpnxVIgj"
   },
   "source": [
    "A partir des exemples ci-dessus, essayez à votre tour de sélectionner la colonne 'DATES' du dataframe, puis la deuxième ligne."
   ]
  },
  {
   "cell_type": "code",
   "execution_count": null,
   "metadata": {
    "id": "L0XfaHd_VoaS"
   },
   "outputs": [],
   "source": [
    "# Ecrivez votre code en dessous :\n"
   ]
  },
  {
   "cell_type": "markdown",
   "metadata": {
    "id": "47eoa-coMScm"
   },
   "source": [
    "## Fonctions plus avancées de Pandas"
   ]
  },
  {
   "cell_type": "markdown",
   "metadata": {
    "id": "Ip4EDqwoaRjb"
   },
   "source": [
    "Maintenant que l'on connaît les fonctionnalités de base pour manipuler un dataframe, explorons d'autres fonctions qui permettent d'approfondir l'étude des données. Pour cette partie, on va se concentrer sur un objectif : étudier les auteurs et les dates qui figurent dans notre jeu de données.\n",
    "\n",
    "Mais avant toute chose : une étape cruciale de la manipulation des données est le nettoyage de celles-ci. En regardant les premières lignes de notre DataFrame, on voit que certaines données manquent. Elles sont marquées par 'NaN' (=Not a Number). Heureusement, Pandas nous permet d'enlever les lignes comportant la valeur 'NaN' dans les colonnes de notre choix. Voici un exemple avec les auteurs :"
   ]
  },
  {
   "cell_type": "code",
   "execution_count": null,
   "metadata": {
    "colab": {
     "base_uri": "https://localhost:8080/",
     "height": 181
    },
    "id": "t_NdMPusbBEF",
    "outputId": "1259151f-1c5d-4407-f63a-8e936c5f1882"
   },
   "outputs": [],
   "source": [
    "df = df.dropna(subset=['AUTEURS'])"
   ]
  },
  {
   "cell_type": "markdown",
   "metadata": {
    "id": "iDLtb1dEV-pR"
   },
   "source": [
    "Besoin d'un petit peu d'ordre dans ces dates ? Essayez d'utiliser la fonction *.sort_values()* pour ranger les dates de manières ascendente !"
   ]
  },
  {
   "cell_type": "code",
   "execution_count": null,
   "metadata": {
    "id": "tJgkOlxKV9qN"
   },
   "outputs": [],
   "source": [
    "# CODE EN DESSOUS :\n"
   ]
  },
  {
   "cell_type": "code",
   "execution_count": null,
   "metadata": {
    "id": "EX6MGZooYUvK"
   },
   "outputs": [],
   "source": []
  },
  {
   "cell_type": "markdown",
   "metadata": {
    "id": "7GR2X1mEYFZh"
   },
   "source": [
    "Il est aussi possible très facilement de visualiser autrement ses données ! Par exemple avec la fonction *hist()*. Essayez là sur la colonne des dates, pour avoir une jolie surprise"
   ]
  },
  {
   "cell_type": "code",
   "execution_count": null,
   "metadata": {
    "id": "HOzWYrT9rjsS"
   },
   "outputs": [],
   "source": []
  },
  {
   "cell_type": "markdown",
   "metadata": {
    "id": "2kXF3IBPWwWh"
   },
   "source": [
    "============= APPROFONDISSEMENT : PETITES VISUALISATIONS AVEC D'AUTRES LIBRAIRIES =============\n",
    "\n"
   ]
  },
  {
   "cell_type": "markdown",
   "metadata": {
    "id": "9nXrTut-ajjG"
   },
   "source": [
    "De multiples librairies peuvent être combinées ensemble pour différents usages. Par exemple, on va tester les Worldclouds. Attention, c'est une nouvelle librairie, il faut donc l'importer avec pip install !"
   ]
  },
  {
   "cell_type": "code",
   "execution_count": null,
   "metadata": {
    "id": "tDJTc0x22lPc"
   },
   "outputs": [],
   "source": [
    "# On commence par l'import\n",
    "import wordcloud"
   ]
  },
  {
   "cell_type": "code",
   "execution_count": null,
   "metadata": {
    "id": "sF1cxpHj7rXS"
   },
   "outputs": [],
   "source": [
    "# Essayez de comprendre et décortiquer ce que cette ligne fait\n",
    "data = dict(zip(df['AUTEURS'].str[:10].tolist(), df['NOMBRE DE VUES'].tolist()))"
   ]
  },
  {
   "cell_type": "code",
   "execution_count": null,
   "metadata": {
    "id": "m31pEdZs48fZ"
   },
   "outputs": [],
   "source": [
    "from wordcloud import WordCloud\n",
    "\n",
    "wc = WordCloud(width=800, height=400, max_words=200).generate_from_frequencies(data)"
   ]
  },
  {
   "cell_type": "code",
   "execution_count": null,
   "metadata": {
    "colab": {
     "base_uri": "https://localhost:8080/",
     "height": 424
    },
    "id": "4DRAd5mh5ZeY",
    "outputId": "b732cadd-32e5-45fc-def0-85766539dd41"
   },
   "outputs": [],
   "source": [
    "import matplotlib.pyplot as plt\n",
    "\n",
    "plt.figure(figsize=(10, 10))\n",
    "plt.imshow(wc, interpolation='bilinear')\n",
    "plt.axis('off')\n",
    "plt.show()"
   ]
  }
 ],
 "metadata": {
  "colab": {
   "provenance": []
  },
  "kernelspec": {
   "display_name": "Python 3 (ipykernel)",
   "language": "python",
   "name": "python3"
  },
  "language_info": {
   "codemirror_mode": {
    "name": "ipython",
    "version": 3
   },
   "file_extension": ".py",
   "mimetype": "text/x-python",
   "name": "python",
   "nbconvert_exporter": "python",
   "pygments_lexer": "ipython3",
   "version": "3.10.11"
  }
 },
 "nbformat": 4,
 "nbformat_minor": 4
}
